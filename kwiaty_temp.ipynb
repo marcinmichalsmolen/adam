{
  "nbformat": 4,
  "nbformat_minor": 0,
  "metadata": {
    "colab": {
      "provenance": [],
      "authorship_tag": "ABX9TyNItGWIEsvtegngBcq73DVb",
      "include_colab_link": true
    },
    "kernelspec": {
      "name": "python3",
      "display_name": "Python 3"
    },
    "language_info": {
      "name": "python"
    }
  },
  "cells": [
    {
      "cell_type": "markdown",
      "metadata": {
        "id": "view-in-github",
        "colab_type": "text"
      },
      "source": [
        "<a href=\"https://colab.research.google.com/github/marcinmichalsmolen/adam/blob/main/kwiaty_temp.ipynb\" target=\"_parent\"><img src=\"https://colab.research.google.com/assets/colab-badge.svg\" alt=\"Open In Colab\"/></a>"
      ]
    },
    {
      "cell_type": "code",
      "execution_count": null,
      "metadata": {
        "id": "EW2ZTVJbRuzg"
      },
      "outputs": [],
      "source": [
        "## Import bibliotek\n",
        "import tensorflow as tf\n",
        "import tensorflow_datasets as tfds\n",
        "from tensorflow.keras.utils import to_categorical\n",
        "\n",
        "## Ładowanie obrazków i etykiet\n",
        "(X_train, y_train), (X_test, y_test) = tfds.load(\n",
        "    \"tf_flowers\",\n",
        "    split=[\"train[:70%]\", \"train[:30%]\"], ## Train test split\n",
        "    batch_size=-1,\n",
        "    as_supervised=True,\n",
        ")\n",
        "\n",
        "## Resizing obrazków\n",
        "X_train = tf.image.resize(X_train, (150, 150))\n",
        "X_test = tf.image.resize(X_test, (150, 150))\n",
        "\n",
        "## Zmiana formatu etykiet\n",
        "y_train = to_categorical(y_train, num_classes=5)\n",
        "y_test = to_categorical(y_test, num_classes=5)\n",
        "\n",
        "## Kopia danych na potrzeby kolejnych modeli\n",
        "X_train2 = X_train\n",
        "X_test2 = X_test\n",
        "y_train2 = y_train\n",
        "y_test2 = y_test\n",
        "\n",
        "\n",
        "from tensorflow.keras.applications.vgg16 import VGG16\n",
        "from tensorflow.keras.applications.vgg16 import preprocess_input\n",
        "\n",
        "## Ładowanie modelu VGG16 bez ostatnich warstw\n",
        "base_model = VGG16(weights=\"imagenet\", include_top=False, input_shape=X_train[0].shape)\n",
        "base_model.trainable = False ## Wagi nie będą trenowane\n",
        "\n",
        "## Preprocessing input\n",
        "X_train = preprocess_input(X_train)\n",
        "X_test = preprocess_input(X_test)\n",
        "\n",
        "from tensorflow.keras import layers, models\n",
        "\n",
        "flatten_layer = layers.Flatten()\n",
        "dense_layer_1 = layers.Dense(50, activation='relu')\n",
        "dense_layer_2 = layers.Dense(20, activation='relu')\n",
        "prediction_layer = layers.Dense(5, activation='softmax')\n",
        "\n",
        "\n",
        "model1 = models.Sequential([\n",
        "    base_model,\n",
        "    flatten_layer,\n",
        "    dense_layer_1,\n",
        "    dense_layer_2,\n",
        "    prediction_layer\n",
        "])\n",
        "\n",
        "model1.summary()\n",
        "\n",
        "\n",
        "from tensorflow.keras.callbacks import EarlyStopping\n",
        "\n",
        "model1.compile(\n",
        "    optimizer='adam',\n",
        "    loss='categorical_crossentropy',\n",
        "    metrics=['accuracy'],\n",
        ")\n",
        "\n",
        "es = EarlyStopping(monitor='val_accuracy', mode='max', patience=5,  restore_best_weights=True)\n",
        "\n",
        "\n",
        "model1.fit(X_train, y_train, epochs=50, validation_split=0.2, batch_size=32, callbacks=[es])\n",
        "\n",
        "\n",
        "model1.evaluate(X_train, y_train)\n",
        "model1.evaluate(X_test, y_test)"
      ]
    }
  ]
}
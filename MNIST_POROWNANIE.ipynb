{
  "nbformat": 4,
  "nbformat_minor": 0,
  "metadata": {
    "colab": {
      "provenance": [],
      "authorship_tag": "ABX9TyOG9R8SB6cxqV2RmcZu0MsW",
      "include_colab_link": true
    },
    "kernelspec": {
      "name": "python3",
      "display_name": "Python 3"
    },
    "language_info": {
      "name": "python"
    }
  },
  "cells": [
    {
      "cell_type": "markdown",
      "metadata": {
        "id": "view-in-github",
        "colab_type": "text"
      },
      "source": [
        "<a href=\"https://colab.research.google.com/github/marcinmichalsmolen/adam/blob/main/MNIST_POROWNANIE.ipynb\" target=\"_parent\"><img src=\"https://colab.research.google.com/assets/colab-badge.svg\" alt=\"Open In Colab\"/></a>"
      ]
    },
    {
      "cell_type": "code",
      "execution_count": 1,
      "metadata": {
        "colab": {
          "base_uri": "https://localhost:8080/",
          "height": 135
        },
        "id": "veFndrTcMYJ_",
        "outputId": "7d9b5119-4fa6-4124-a872-aba9156ad055"
      },
      "outputs": [
        {
          "output_type": "error",
          "ename": "SyntaxError",
          "evalue": "ignored",
          "traceback": [
            "\u001b[0;36m  File \u001b[0;32m\"<ipython-input-1-b0c653ed8a64>\"\u001b[0;36m, line \u001b[0;32m64\u001b[0m\n\u001b[0;31m    for\u001b[0m\n\u001b[0m       ^\u001b[0m\n\u001b[0;31mSyntaxError\u001b[0m\u001b[0;31m:\u001b[0m invalid syntax\n"
          ]
        }
      ],
      "source": [
        "import tensorflow as tf\n",
        "from tensorflow.examples.tutorials.mnist import input_data\n",
        "import matplotlib.pyplot as plt\n",
        "\n",
        "# Load MNIST dataset\n",
        "mnist = input_data.read_data_sets('MNIST_data', one_hot=True)\n",
        "\n",
        "# Define neural network\n",
        "def multilayer_perceptron(x, keep_prob):\n",
        "    hidden_layer_1 = tf.layers.dense(x, 256, activation=tf.nn.relu)\n",
        "    dropout_layer_1 = tf.nn.dropout(hidden_layer_1, keep_prob)\n",
        "    hidden_layer_2 = tf.layers.dense(dropout_layer_1, 256, activation=tf.nn.relu)\n",
        "    dropout_layer_2 = tf.nn.dropout(hidden_layer_2, keep_prob)\n",
        "    output_layer = tf.layers.dense(dropout_layer_2, 10, activation=None)\n",
        "    return output_layer\n",
        "\n",
        "# Define hyperparameters\n",
        "learning_rate = 0.001\n",
        "training_epochs = 200\n",
        "batch_size = 128\n",
        "display_step = 1\n",
        "n_input = 784\n",
        "n_classes = 10\n",
        "keep_prob_value = 0.5\n",
        "\n",
        "# Define input/output placeholders\n",
        "x = tf.placeholder(tf.float32, [None, n_input])\n",
        "y = tf.placeholder(tf.float32, [None, n_classes])\n",
        "keep_prob = tf.placeholder(tf.float32)\n",
        "\n",
        "# Define model, cost function and optimizer for each algorithm\n",
        "pred_adagrad = multilayer_perceptron(x, keep_prob)\n",
        "cost_adagrad = tf.reduce_mean(tf.nn.softmax_cross_entropy_with_logits_v2(logits=pred_adagrad, labels=y))\n",
        "optimizer_adagrad = tf.train.AdagradOptimizer(learning_rate=learning_rate).minimize(cost_adagrad)\n",
        "\n",
        "pred_rmsprop = multilayer_perceptron(x, keep_prob)\n",
        "cost_rmsprop = tf.reduce_mean(tf.nn.softmax_cross_entropy_with_logits_v2(logits=pred_rmsprop, labels=y))\n",
        "optimizer_rmsprop = tf.train.RMSPropOptimizer(learning_rate=learning_rate).minimize(cost_rmsprop)\n",
        "\n",
        "pred_sgdnesterow = multilayer_perceptron(x, keep_prob)\n",
        "cost_sgdnesterow = tf.reduce_mean(tf.nn.softmax_cross_entropy_with_logits_v2(logits=pred_sgdnesterow, labels=y))\n",
        "optimizer_sgdnesterow = tf.train.MomentumOptimizer(learning_rate=learning_rate, momentum=0.9, use_nesterov=True).minimize(cost_sgdnesterow)\n",
        "\n",
        "pred_adadelta = multilayer_perceptron(x, keep_prob)\n",
        "cost_adadelta = tf.reduce_mean(tf.nn.softmax_cross_entropy_with_logits_v2(logits=pred_adadelta, labels=y))\n",
        "optimizer_adadelta = tf.train.AdadeltaOptimizer(learning_rate=learning_rate).minimize(cost_adadelta)\n",
        "\n",
        "pred_adam = multilayer_perceptron(x, keep_prob)\n",
        "cost_adam = tf.reduce_mean(tf.nn.softmax_cross_entropy_with_logits_v2(logits=pred_adam, labels=y))\n",
        "optimizer_adam = tf.train.AdamOptimizer(learning_rate=learning_rate).minimize(cost_adam)\n",
        "\n",
        "# Initialize the variables\n",
        "init = tf.global_variables_initializer()\n",
        "\n",
        "# Start training\n",
        "with tf.Session() as sess:\n",
        "    sess.run(init)\n",
        "    total_batches = int(mnist.train.num_examples/batch_size)\n",
        "    cost_list_adagrad = []\n",
        "    cost_list_rmsprop = []\n",
        "    cost_list_sgdnesterow = []\n",
        "    cost_list_adadelta = []\n",
        "    cost_list_adam = []\n",
        "    for\n"
      ]
    }
  ]
}
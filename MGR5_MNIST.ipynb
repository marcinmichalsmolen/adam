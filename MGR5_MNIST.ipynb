{
  "nbformat": 4,
  "nbformat_minor": 0,
  "metadata": {
    "colab": {
      "provenance": [],
      "authorship_tag": "ABX9TyPOhLaKDmXqS7sImczghwMH",
      "include_colab_link": true
    },
    "kernelspec": {
      "name": "python3",
      "display_name": "Python 3"
    },
    "language_info": {
      "name": "python"
    },
    "accelerator": "GPU",
    "gpuClass": "standard"
  },
  "cells": [
    {
      "cell_type": "markdown",
      "metadata": {
        "id": "view-in-github",
        "colab_type": "text"
      },
      "source": [
        "<a href=\"https://colab.research.google.com/github/marcinmichalsmolen/adam/blob/main/MGR5_MNIST.ipynb\" target=\"_parent\"><img src=\"https://colab.research.google.com/assets/colab-badge.svg\" alt=\"Open In Colab\"/></a>"
      ]
    },
    {
      "cell_type": "markdown",
      "source": [
        "MNIST / MNIST Fashion - MGR Adam "
      ],
      "metadata": {
        "id": "uK1-d-gHZOvK"
      }
    },
    {
      "cell_type": "code",
      "source": [
        "!nvidia-smi"
      ],
      "metadata": {
        "colab": {
          "base_uri": "https://localhost:8080/"
        },
        "id": "d09gyDsuZURK",
        "outputId": "af292507-3994-4a83-f04e-a49d20728ce2"
      },
      "execution_count": 16,
      "outputs": [
        {
          "output_type": "stream",
          "name": "stdout",
          "text": [
            "Wed Apr 19 12:18:29 2023       \n",
            "+-----------------------------------------------------------------------------+\n",
            "| NVIDIA-SMI 525.85.12    Driver Version: 525.85.12    CUDA Version: 12.0     |\n",
            "|-------------------------------+----------------------+----------------------+\n",
            "| GPU  Name        Persistence-M| Bus-Id        Disp.A | Volatile Uncorr. ECC |\n",
            "| Fan  Temp  Perf  Pwr:Usage/Cap|         Memory-Usage | GPU-Util  Compute M. |\n",
            "|                               |                      |               MIG M. |\n",
            "|===============================+======================+======================|\n",
            "|   0  Tesla T4            Off  | 00000000:00:04.0 Off |                    0 |\n",
            "| N/A   59C    P0    27W /  70W |   1887MiB / 15360MiB |      0%      Default |\n",
            "|                               |                      |                  N/A |\n",
            "+-------------------------------+----------------------+----------------------+\n",
            "                                                                               \n",
            "+-----------------------------------------------------------------------------+\n",
            "| Processes:                                                                  |\n",
            "|  GPU   GI   CI        PID   Type   Process name                  GPU Memory |\n",
            "|        ID   ID                                                   Usage      |\n",
            "|=============================================================================|\n",
            "+-----------------------------------------------------------------------------+\n"
          ]
        }
      ]
    },
    {
      "cell_type": "code",
      "source": [
        "from keras.datasets import mnist as dataset\n",
        "import numpy as np\n",
        "(X_train, y_train), (X_test, y_test) = dataset.load_data()\n",
        "# Rysowanie 12 elementów - etykiety na górze\n",
        "import matplotlib.pyplot as plt\n",
        "plt.imshow(X_train[0], cmap='gray')\n",
        "for i in range(12):\n",
        "  plt.subplot(3, 4, i+1)\n",
        "  plt.imshow(X_train[i], cmap='inferno')\n",
        "  plt.title(y_train[i])\n",
        "plt.show()"
      ],
      "metadata": {
        "colab": {
          "base_uri": "https://localhost:8080/",
          "height": 506
        },
        "id": "Uk3F4CdZZVSd",
        "outputId": "058e635b-bc85-4a34-9aa9-a735428c613d"
      },
      "execution_count": 29,
      "outputs": [
        {
          "output_type": "stream",
          "name": "stderr",
          "text": [
            "<ipython-input-29-9662f33bbf43>:8: MatplotlibDeprecationWarning: Auto-removal of overlapping axes is deprecated since 3.6 and will be removed two minor releases later; explicitly call ax.remove() as needed.\n",
            "  plt.subplot(3, 4, i+1)\n"
          ]
        },
        {
          "output_type": "display_data",
          "data": {
            "text/plain": [
              "<Figure size 640x480 with 12 Axes>"
            ],
            "image/png": "[encoded data removed]"
          },
          "metadata": {}
        }
      ]
    },
    {
      "cell_type": "code",
      "source": [
        "X_train = X_train / 255\n",
        "X_test = X_test / 255\n",
        "X_train = X_train.astype('float32')\n",
        "X_test = X_test.astype('float32')\n",
        "from keras.utils.np_utils import to_categorical as tk\n",
        "Y_train = tk(y_train)\n",
        "Y_test =tk(y_test)"
      ],
      "metadata": {
        "id": "Ck1DCM4LZjeI"
      },
      "execution_count": 30,
      "outputs": []
    },
    {
      "cell_type": "code",
      "source": [
        "from keras import backend as K\n",
        "print(K.image_data_format())\n",
        "print(\"X_train: {}, y_train: {}\", X_train.shape, y_train.shape)\n",
        "print(\"X_test: {}, y_test: {}\", X_test.shape, y_test.shape)"
      ],
      "metadata": {
        "colab": {
          "base_uri": "https://localhost:8080/"
        },
        "id": "qUbTKiQMZrdR",
        "outputId": "ab61fd23-ed76-4ccc-ac52-52c17793015c"
      },
      "execution_count": 31,
      "outputs": [
        {
          "output_type": "stream",
          "name": "stdout",
          "text": [
            "channels_last\n",
            "X_train: {}, y_train: {} (60000, 28, 28) (60000,)\n",
            "X_test: {}, y_test: {} (10000, 28, 28) (10000,)\n"
          ]
        }
      ]
    },
    {
      "cell_type": "markdown",
      "source": [
        "Przygotowanie sieci"
      ],
      "metadata": {
        "id": "3ro_VO1SZxPY"
      }
    },
    {
      "cell_type": "code",
      "source": [
        "from keras.models import Sequential\n",
        "from keras.layers import Dense, Flatten\n",
        "from keras.layers.convolutional import Conv2D, MaxPooling2D\n",
        "import tensorflow as tf\n",
        "insh = (28, 28, 1)"
      ],
      "metadata": {
        "id": "C2Uf9DydZyLr"
      },
      "execution_count": 32,
      "outputs": []
    },
    {
      "cell_type": "code",
      "source": [
        "model = Sequential([\n",
        "  Conv2D(16, kernel_size=(3,3), padding='same',activation='relu', input_shape = insh),\n",
        "  MaxPooling2D(pool_size=(2,2)),\n",
        "  Conv2D(32, kernel_size=(3,3), activation='relu'),\n",
        "  MaxPooling2D(pool_size=(2,2)),\n",
        "  Flatten(),\n",
        "  Dense(10, activation='softmax')\n",
        "])\n",
        "\n",
        "model.compile(loss='categorical_crossentropy', optimizer='adam', metrics=['accuracy'])\n",
        "model.summary()"
      ],
      "metadata": {
        "colab": {
          "base_uri": "https://localhost:8080/"
        },
        "id": "EIawipGJZ6TV",
        "outputId": "2d355360-e991-4528-b443-7656f502ea85"
      },
      "execution_count": 33,
      "outputs": [
        {
          "output_type": "stream",
          "name": "stdout",
          "text": [
            "Model: \"sequential_6\"\n",
            "_________________________________________________________________\n",
            " Layer (type)                Output Shape              Param #   \n",
            "=================================================================\n",
            " conv2d_12 (Conv2D)          (None, 28, 28, 16)        160       \n",
            "                                                                 \n",
            " max_pooling2d_12 (MaxPoolin  (None, 14, 14, 16)       0         \n",
            " g2D)                                                            \n",
            "                                                                 \n",
            " conv2d_13 (Conv2D)          (None, 12, 12, 32)        4640      \n",
            "                                                                 \n",
            " max_pooling2d_13 (MaxPoolin  (None, 6, 6, 32)         0         \n",
            " g2D)                                                            \n",
            "                                                                 \n",
            " flatten_6 (Flatten)         (None, 1152)              0         \n",
            "                                                                 \n",
            " dense_6 (Dense)             (None, 10)                11530     \n",
            "                                                                 \n",
            "=================================================================\n",
            "Total params: 16,330\n",
            "Trainable params: 16,330\n",
            "Non-trainable params: 0\n",
            "_________________________________________________________________\n"
          ]
        }
      ]
    },
    {
      "cell_type": "code",
      "source": [
        "import tensorflow as tf\n",
        "tf.keras.utils.plot_model(\n",
        "  model,\n",
        "  to_file='model.png',\n",
        "  show_shapes=False,\n",
        "  show_dtype=False,\n",
        "  show_layer_names=True,\n",
        "  rankdir='TB',\n",
        "  expand_nested=False,\n",
        "  dpi=96,\n",
        "  layer_range=None,\n",
        "  show_layer_activations=False\n",
        ")"
      ],
      "metadata": {
        "colab": {
          "base_uri": "https://localhost:8080/",
          "height": 661
        },
        "id": "r_IFWdkIZ_IT",
        "outputId": "328db565-e86c-4432-e7db-d22f6d5442e0"
      },
      "execution_count": 34,
      "outputs": [
        {
          "output_type": "execute_result",
          "data": {
            "image/png": "[encoded data removed]",
            "text/plain": [
              "<IPython.core.display.Image object>"
            ]
          },
          "metadata": {},
          "execution_count": 34
        }
      ]
    },
    {
      "cell_type": "code",
      "source": [
        "model = Sequential([\n",
        "  Conv2D(16, kernel_size=(3,3), activation='relu', input_shape=insh),\n",
        "  MaxPooling2D(pool_size=(2,2)),\n",
        "  Conv2D(32, kernel_size=(3,3), activation='relu'),\n",
        "  MaxPooling2D(pool_size=(2,2)),\n",
        "  Flatten(),\n",
        "  Dense(10, activation='softmax')\n",
        "])\n",
        "\n",
        "model.compile(loss='categorical_crossentropy', optimizer='adam', metrics=['accuracy'])\n",
        "model.summary()"
      ],
      "metadata": {
        "colab": {
          "base_uri": "https://localhost:8080/"
        },
        "id": "0J5_iTb2aCpT",
        "outputId": "2795fb29-f6ca-4045-ea92-73342276b43f"
      },
      "execution_count": 35,
      "outputs": [
        {
          "output_type": "stream",
          "name": "stdout",
          "text": [
            "Model: \"sequential_7\"\n",
            "_________________________________________________________________\n",
            " Layer (type)                Output Shape              Param #   \n",
            "=================================================================\n",
            " conv2d_14 (Conv2D)          (None, 26, 26, 16)        160       \n",
            "                                                                 \n",
            " max_pooling2d_14 (MaxPoolin  (None, 13, 13, 16)       0         \n",
            " g2D)                                                            \n",
            "                                                                 \n",
            " conv2d_15 (Conv2D)          (None, 11, 11, 32)        4640      \n",
            "                                                                 \n",
            " max_pooling2d_15 (MaxPoolin  (None, 5, 5, 32)         0         \n",
            " g2D)                                                            \n",
            "                                                                 \n",
            " flatten_7 (Flatten)         (None, 800)               0         \n",
            "                                                                 \n",
            " dense_7 (Dense)             (None, 10)                8010      \n",
            "                                                                 \n",
            "=================================================================\n",
            "Total params: 12,810\n",
            "Trainable params: 12,810\n",
            "Non-trainable params: 0\n",
            "_________________________________________________________________\n"
          ]
        }
      ]
    },
    {
      "cell_type": "code",
      "source": [
        "model = Sequential([\n",
        "  Conv2D(16, kernel_size=(3,3), padding='same',activation='relu', input_shape = insh),\n",
        "  MaxPooling2D(pool_size=(2,2)),\n",
        "  Conv2D(32, kernel_size=(3,3), activation='relu'),\n",
        "  MaxPooling2D(pool_size=(2,2)),\n",
        "  Flatten(),\n",
        "  Dense(10, activation='softmax')\n",
        "])\n",
        "\n",
        "model.compile(loss='categorical_crossentropy', optimizer='adam', metrics=['accuracy'])"
      ],
      "metadata": {
        "id": "aTD3LTD-aK9z"
      },
      "execution_count": 36,
      "outputs": []
    },
    {
      "cell_type": "code",
      "source": [
        "model.compile(\n",
        "  optimizer='adam',\n",
        "  loss='categorical_crossentropy',\n",
        "  metrics=['accuracy'],\n",
        ")"
      ],
      "metadata": {
        "id": "PRlTSXEcaM8t"
      },
      "execution_count": 37,
      "outputs": []
    },
    {
      "cell_type": "code",
      "source": [
        "from matplotlib import pyplot\n",
        "from google.colab import drive\n",
        "drive.mount('/content/drive/')"
      ],
      "metadata": {
        "colab": {
          "base_uri": "https://localhost:8080/"
        },
        "id": "wCiU94lBaPGx",
        "outputId": "4aad9367-b33f-497e-dd14-8177f9133541"
      },
      "execution_count": 38,
      "outputs": [
        {
          "output_type": "stream",
          "name": "stdout",
          "text": [
            "Drive already mounted at /content/drive/; to attempt to forcibly remount, call drive.mount(\"/content/drive/\", force_remount=True).\n"
          ]
        }
      ]
    },
    {
      "cell_type": "code",
      "source": [
        "def summarize_diagnostics(history):\n",
        "  pyplot.title('Dokładność klasyfikacji')\n",
        "  pyplot.plot(history.history['accuracy'], color='orange', label='train')\n",
        "  pyplot.plot(history.history['val_accuracy'], color='green', label='test')\n",
        "  pyplot.subplots_adjust (right=2)\n",
        "  pyplot.show()\n",
        "\n",
        "def summarize_diagnostics2(history):\n",
        "  pyplot.title('Model loss')\n",
        "  pyplot.plot(history.history['loss'], color='red', label='train')\n",
        "  pyplot.plot(history.history['val_loss'], color='blue', label='test')\n",
        "  pyplot.subplots_adjust (right=2)\n",
        "  pyplot.show()\n",
        "\n",
        "def run_model(model_number):\n",
        "  output = model_number.fit(X_train, y_train, epochs=100, batch_size=1024, validation_split=(0.2),callbacks=[callbacks])\n",
        "  # evaluate model\n",
        "  _, acc = model_number.evaluate(X_test, y_test)\n",
        "  print('Accuracy = %.3f' % (acc * 100.0))\n",
        "  summarize_diagnostics(output)\n",
        "  summarize_diagnostics2(output)\n",
        "  return"
      ],
      "metadata": {
        "id": "kHzitcdhaTen"
      },
      "execution_count": 40,
      "outputs": []
    },
    {
      "cell_type": "markdown",
      "source": [
        "Trening sieci - 100 epok, batch_size 256."
      ],
      "metadata": {
        "id": "hQpNA6BPaYwO"
      }
    },
    {
      "cell_type": "code",
      "source": [
        "history = model.fit(\n",
        "    x=X_train,\n",
        "    y=Y_train,\n",
        "    batch_size=256,\n",
        "    epochs=100,\n",
        "    verbose=\"auto\",\n",
        "    callbacks=None,\n",
        "    validation_split=0.0,\n",
        "    )\n",
        "summarize_diagnostics(history)\n",
        "summarize_diagnostics2(history)"
      ],
      "metadata": {
        "colab": {
          "base_uri": "https://localhost:8080/",
          "height": 1000
        },
        "id": "bTCIR9INaXKA",
        "outputId": "195d771f-9658-4a82-dd8f-dafa5a914ff2"
      },
      "execution_count": 41,
      "outputs": [
        {
          "output_type": "stream",
          "name": "stdout",
          "text": [
            "Epoch 1/100\n",
            "235/235 [==============================] - 3s 5ms/step - loss: 0.4824 - accuracy: 0.8690\n",
            "Epoch 2/100\n",
            "235/235 [==============================] - 1s 4ms/step - loss: 0.1203 - accuracy: 0.9642\n",
            "Epoch 3/100\n",
            "235/235 [==============================] - 1s 4ms/step - loss: 0.0825 - accuracy: 0.9742\n",
            "Epoch 4/100\n",
            "235/235 [==============================] - 1s 4ms/step - loss: 0.0678 - accuracy: 0.9791\n",
            "Epoch 5/100\n",
            "235/235 [==============================] - 1s 4ms/step - loss: 0.0582 - accuracy: 0.9820\n",
            "Epoch 6/100\n",
            "235/235 [==============================] - 1s 4ms/step - loss: 0.0536 - accuracy: 0.9830\n",
            "Epoch 7/100\n",
            "235/235 [==============================] - 1s 4ms/step - loss: 0.0469 - accuracy: 0.9860\n",
            "Epoch 8/100\n",
            "235/235 [==============================] - 1s 4ms/step - loss: 0.0432 - accuracy: 0.9868\n",
            "Epoch 9/100\n",
            "235/235 [==============================] - 1s 4ms/step - loss: 0.0404 - accuracy: 0.9877\n",
            "Epoch 10/100\n",
            "235/235 [==============================] - 1s 4ms/step - loss: 0.0385 - accuracy: 0.9882\n",
            "Epoch 11/100\n",
            "235/235 [==============================] - 1s 5ms/step - loss: 0.0345 - accuracy: 0.9895\n",
            "Epoch 12/100\n",
            "235/235 [==============================] - 1s 5ms/step - loss: 0.0323 - accuracy: 0.9902\n",
            "Epoch 13/100\n",
            "235/235 [==============================] - 1s 6ms/step - loss: 0.0309 - accuracy: 0.9904\n",
            "Epoch 14/100\n",
            "235/235 [==============================] - 1s 4ms/step - loss: 0.0297 - accuracy: 0.9904\n",
            "Epoch 15/100\n",
            "235/235 [==============================] - 1s 4ms/step - loss: 0.0267 - accuracy: 0.9917\n",
            "Epoch 16/100\n",
            "235/235 [==============================] - 1s 4ms/step - loss: 0.0251 - accuracy: 0.9921\n",
            "Epoch 17/100\n",
            "235/235 [==============================] - 1s 4ms/step - loss: 0.0234 - accuracy: 0.9927\n",
            "Epoch 18/100\n",
            "235/235 [==============================] - 1s 4ms/step - loss: 0.0227 - accuracy: 0.9929\n",
            "Epoch 19/100\n",
            "235/235 [==============================] - 1s 4ms/step - loss: 0.0215 - accuracy: 0.9932\n",
            "Epoch 20/100\n",
            "235/235 [==============================] - 1s 4ms/step - loss: 0.0203 - accuracy: 0.9937\n",
            "Epoch 21/100\n",
            "235/235 [==============================] - 1s 4ms/step - loss: 0.0184 - accuracy: 0.9944\n",
            "Epoch 22/100\n",
            "235/235 [==============================] - 1s 4ms/step - loss: 0.0171 - accuracy: 0.9948\n",
            "Epoch 23/100\n",
            "235/235 [==============================] - 1s 4ms/step - loss: 0.0159 - accuracy: 0.9950\n",
            "Epoch 24/100\n",
            "235/235 [==============================] - 1s 5ms/step - loss: 0.0156 - accuracy: 0.9950\n",
            "Epoch 25/100\n",
            "235/235 [==============================] - 1s 5ms/step - loss: 0.0146 - accuracy: 0.9956\n",
            "Epoch 26/100\n",
            "235/235 [==============================] - 1s 5ms/step - loss: 0.0129 - accuracy: 0.9960\n",
            "Epoch 27/100\n",
            "235/235 [==============================] - 1s 4ms/step - loss: 0.0122 - accuracy: 0.9962\n",
            "Epoch 28/100\n",
            "235/235 [==============================] - 1s 4ms/step - loss: 0.0122 - accuracy: 0.9962\n",
            "Epoch 29/100\n",
            "235/235 [==============================] - 1s 4ms/step - loss: 0.0116 - accuracy: 0.9962\n",
            "Epoch 30/100\n",
            "235/235 [==============================] - 1s 4ms/step - loss: 0.0107 - accuracy: 0.9966\n",
            "Epoch 31/100\n",
            "235/235 [==============================] - 1s 4ms/step - loss: 0.0088 - accuracy: 0.9974\n",
            "Epoch 32/100\n",
            "235/235 [==============================] - 1s 4ms/step - loss: 0.0081 - accuracy: 0.9979\n",
            "Epoch 33/100\n",
            "235/235 [==============================] - 1s 4ms/step - loss: 0.0081 - accuracy: 0.9975\n",
            "Epoch 34/100\n",
            "235/235 [==============================] - 1s 4ms/step - loss: 0.0082 - accuracy: 0.9975\n",
            "Epoch 35/100\n",
            "235/235 [==============================] - 1s 4ms/step - loss: 0.0085 - accuracy: 0.9974\n",
            "Epoch 36/100\n",
            "235/235 [==============================] - 1s 4ms/step - loss: 0.0074 - accuracy: 0.9979\n",
            "Epoch 37/100\n",
            "235/235 [==============================] - 1s 5ms/step - loss: 0.0063 - accuracy: 0.9984\n",
            "Epoch 38/100\n",
            "235/235 [==============================] - 1s 5ms/step - loss: 0.0055 - accuracy: 0.9986\n",
            "Epoch 39/100\n",
            "235/235 [==============================] - 1s 5ms/step - loss: 0.0060 - accuracy: 0.9982\n",
            "Epoch 40/100\n",
            "235/235 [==============================] - 1s 5ms/step - loss: 0.0051 - accuracy: 0.9984\n",
            "Epoch 41/100\n",
            "235/235 [==============================] - 1s 4ms/step - loss: 0.0056 - accuracy: 0.9984\n",
            "Epoch 42/100\n",
            "235/235 [==============================] - 1s 4ms/step - loss: 0.0047 - accuracy: 0.9987\n",
            "Epoch 43/100\n",
            "235/235 [==============================] - 1s 4ms/step - loss: 0.0049 - accuracy: 0.9986\n",
            "Epoch 44/100\n",
            "235/235 [==============================] - 1s 4ms/step - loss: 0.0043 - accuracy: 0.9987\n",
            "Epoch 45/100\n",
            "235/235 [==============================] - 1s 4ms/step - loss: 0.0038 - accuracy: 0.9988\n",
            "Epoch 46/100\n",
            "235/235 [==============================] - 1s 4ms/step - loss: 0.0032 - accuracy: 0.9991\n",
            "Epoch 47/100\n",
            "235/235 [==============================] - 1s 4ms/step - loss: 0.0043 - accuracy: 0.9985\n",
            "Epoch 48/100\n",
            "235/235 [==============================] - 1s 4ms/step - loss: 0.0051 - accuracy: 0.9982\n",
            "Epoch 49/100\n",
            "235/235 [==============================] - 1s 4ms/step - loss: 0.0031 - accuracy: 0.9992\n",
            "Epoch 50/100\n",
            "235/235 [==============================] - 1s 5ms/step - loss: 0.0035 - accuracy: 0.9990\n",
            "Epoch 51/100\n",
            "235/235 [==============================] - 1s 5ms/step - loss: 0.0029 - accuracy: 0.9991\n",
            "Epoch 52/100\n",
            "235/235 [==============================] - 1s 5ms/step - loss: 0.0028 - accuracy: 0.9991\n",
            "Epoch 53/100\n",
            "235/235 [==============================] - 1s 5ms/step - loss: 0.0015 - accuracy: 0.9998\n",
            "Epoch 54/100\n",
            "235/235 [==============================] - 1s 4ms/step - loss: 9.4006e-04 - accuracy: 0.9999\n",
            "Epoch 55/100\n",
            "235/235 [==============================] - 1s 4ms/step - loss: 0.0041 - accuracy: 0.9986\n",
            "Epoch 56/100\n",
            "235/235 [==============================] - 1s 4ms/step - loss: 0.0063 - accuracy: 0.9978\n",
            "Epoch 57/100\n",
            "235/235 [==============================] - 1s 4ms/step - loss: 0.0026 - accuracy: 0.9993\n",
            "Epoch 58/100\n",
            "235/235 [==============================] - 1s 4ms/step - loss: 0.0028 - accuracy: 0.9991\n",
            "Epoch 59/100\n",
            "235/235 [==============================] - 1s 4ms/step - loss: 0.0029 - accuracy: 0.9991\n",
            "Epoch 60/100\n",
            "235/235 [==============================] - 1s 4ms/step - loss: 8.4142e-04 - accuracy: 0.9999\n",
            "Epoch 61/100\n",
            "235/235 [==============================] - 1s 4ms/step - loss: 4.5945e-04 - accuracy: 1.0000\n",
            "Epoch 62/100\n",
            "235/235 [==============================] - 1s 4ms/step - loss: 4.4392e-04 - accuracy: 0.9999\n",
            "Epoch 63/100\n",
            "235/235 [==============================] - 1s 5ms/step - loss: 3.8088e-04 - accuracy: 1.0000\n",
            "Epoch 64/100\n",
            "235/235 [==============================] - 1s 5ms/step - loss: 2.4361e-04 - accuracy: 1.0000\n",
            "Epoch 65/100\n",
            "235/235 [==============================] - 1s 6ms/step - loss: 2.1773e-04 - accuracy: 1.0000\n",
            "Epoch 66/100\n",
            "235/235 [==============================] - 1s 5ms/step - loss: 1.9634e-04 - accuracy: 1.0000\n",
            "Epoch 67/100\n",
            "235/235 [==============================] - 1s 4ms/step - loss: 0.0012 - accuracy: 0.9996\n",
            "Epoch 68/100\n",
            "235/235 [==============================] - 1s 4ms/step - loss: 0.0137 - accuracy: 0.9952\n",
            "Epoch 69/100\n",
            "235/235 [==============================] - 1s 4ms/step - loss: 0.0031 - accuracy: 0.9989\n",
            "Epoch 70/100\n",
            "235/235 [==============================] - 1s 4ms/step - loss: 0.0019 - accuracy: 0.9995\n",
            "Epoch 71/100\n",
            "235/235 [==============================] - 1s 4ms/step - loss: 5.8585e-04 - accuracy: 0.9999\n",
            "Epoch 72/100\n",
            "235/235 [==============================] - 1s 4ms/step - loss: 3.3838e-04 - accuracy: 1.0000\n",
            "Epoch 73/100\n",
            "235/235 [==============================] - 1s 4ms/step - loss: 2.2511e-04 - accuracy: 1.0000\n",
            "Epoch 74/100\n",
            "235/235 [==============================] - 1s 4ms/step - loss: 1.8999e-04 - accuracy: 1.0000\n",
            "Epoch 75/100\n",
            "235/235 [==============================] - 1s 4ms/step - loss: 1.6474e-04 - accuracy: 1.0000\n",
            "Epoch 76/100\n",
            "235/235 [==============================] - 1s 5ms/step - loss: 1.4425e-04 - accuracy: 1.0000\n",
            "Epoch 77/100\n",
            "235/235 [==============================] - 1s 5ms/step - loss: 1.3292e-04 - accuracy: 1.0000\n",
            "Epoch 78/100\n",
            "235/235 [==============================] - 1s 6ms/step - loss: 1.1719e-04 - accuracy: 1.0000\n",
            "Epoch 79/100\n",
            "235/235 [==============================] - 1s 4ms/step - loss: 1.1296e-04 - accuracy: 1.0000\n",
            "Epoch 80/100\n",
            "235/235 [==============================] - 1s 4ms/step - loss: 9.7630e-05 - accuracy: 1.0000\n",
            "Epoch 81/100\n",
            "235/235 [==============================] - 1s 4ms/step - loss: 9.8478e-05 - accuracy: 1.0000\n",
            "Epoch 82/100\n",
            "235/235 [==============================] - 1s 4ms/step - loss: 0.0063 - accuracy: 0.9983\n",
            "Epoch 83/100\n",
            "235/235 [==============================] - 1s 4ms/step - loss: 0.0129 - accuracy: 0.9953\n",
            "Epoch 84/100\n",
            "235/235 [==============================] - 1s 4ms/step - loss: 0.0031 - accuracy: 0.9989\n",
            "Epoch 85/100\n",
            "235/235 [==============================] - 1s 4ms/step - loss: 0.0015 - accuracy: 0.9996\n",
            "Epoch 86/100\n",
            "235/235 [==============================] - 1s 4ms/step - loss: 3.2092e-04 - accuracy: 1.0000\n",
            "Epoch 87/100\n",
            "235/235 [==============================] - 1s 4ms/step - loss: 2.0013e-04 - accuracy: 1.0000\n",
            "Epoch 88/100\n",
            "235/235 [==============================] - 1s 4ms/step - loss: 1.5367e-04 - accuracy: 1.0000\n",
            "Epoch 89/100\n",
            "235/235 [==============================] - 1s 5ms/step - loss: 1.4045e-04 - accuracy: 1.0000\n",
            "Epoch 90/100\n",
            "235/235 [==============================] - 1s 5ms/step - loss: 1.2462e-04 - accuracy: 1.0000\n",
            "Epoch 91/100\n",
            "235/235 [==============================] - 1s 5ms/step - loss: 1.0993e-04 - accuracy: 1.0000\n",
            "Epoch 92/100\n",
            "235/235 [==============================] - 1s 4ms/step - loss: 1.0063e-04 - accuracy: 1.0000\n",
            "Epoch 93/100\n",
            "235/235 [==============================] - 1s 4ms/step - loss: 9.4358e-05 - accuracy: 1.0000\n",
            "Epoch 94/100\n",
            "235/235 [==============================] - 1s 4ms/step - loss: 9.1019e-05 - accuracy: 1.0000\n",
            "Epoch 95/100\n",
            "235/235 [==============================] - 1s 4ms/step - loss: 7.6065e-05 - accuracy: 1.0000\n",
            "Epoch 96/100\n",
            "235/235 [==============================] - 1s 4ms/step - loss: 7.1887e-05 - accuracy: 1.0000\n",
            "Epoch 97/100\n",
            "235/235 [==============================] - 1s 4ms/step - loss: 6.8897e-05 - accuracy: 1.0000\n",
            "Epoch 98/100\n",
            "235/235 [==============================] - 1s 4ms/step - loss: 6.3900e-05 - accuracy: 1.0000\n",
            "Epoch 99/100\n",
            "235/235 [==============================] - 1s 4ms/step - loss: 0.0078 - accuracy: 0.9980\n",
            "Epoch 100/100\n",
            "235/235 [==============================] - 1s 4ms/step - loss: 0.0084 - accuracy: 0.9969\n"
          ]
        },
        {
          "output_type": "error",
          "ename": "KeyError",
          "evalue": "ignored",
          "traceback": [
            "\u001b[0;31m---------------------------------------------------------------------------\u001b[0m",
            "\u001b[0;31mKeyError\u001b[0m                                  Traceback (most recent call last)",
            "\u001b[0;32m<ipython-input-41-54e4b4f42b56>\u001b[0m in \u001b[0;36m<cell line: 10>\u001b[0;34m()\u001b[0m\n\u001b[1;32m      8\u001b[0m     \u001b[0mvalidation_split\u001b[0m\u001b[0;34m=\u001b[0m\u001b[0;36m0.0\u001b[0m\u001b[0;34m,\u001b[0m\u001b[0;34m\u001b[0m\u001b[0;34m\u001b[0m\u001b[0m\n\u001b[1;32m      9\u001b[0m     )\n\u001b[0;32m---> 10\u001b[0;31m \u001b[0msummarize_diagnostics\u001b[0m\u001b[0;34m(\u001b[0m\u001b[0mhistory\u001b[0m\u001b[0;34m)\u001b[0m\u001b[0;34m\u001b[0m\u001b[0;34m\u001b[0m\u001b[0m\n\u001b[0m\u001b[1;32m     11\u001b[0m \u001b[0msummarize_diagnostics2\u001b[0m\u001b[0;34m(\u001b[0m\u001b[0mhistory\u001b[0m\u001b[0;34m)\u001b[0m\u001b[0;34m\u001b[0m\u001b[0;34m\u001b[0m\u001b[0m\n",
            "\u001b[0;32m<ipython-input-40-437b0c42853c>\u001b[0m in \u001b[0;36msummarize_diagnostics\u001b[0;34m(history)\u001b[0m\n\u001b[1;32m      2\u001b[0m   \u001b[0mpyplot\u001b[0m\u001b[0;34m.\u001b[0m\u001b[0mtitle\u001b[0m\u001b[0;34m(\u001b[0m\u001b[0;34m'Dokładność klasyfikacji'\u001b[0m\u001b[0;34m)\u001b[0m\u001b[0;34m\u001b[0m\u001b[0;34m\u001b[0m\u001b[0m\n\u001b[1;32m      3\u001b[0m   \u001b[0mpyplot\u001b[0m\u001b[0;34m.\u001b[0m\u001b[0mplot\u001b[0m\u001b[0;34m(\u001b[0m\u001b[0mhistory\u001b[0m\u001b[0;34m.\u001b[0m\u001b[0mhistory\u001b[0m\u001b[0;34m[\u001b[0m\u001b[0;34m'accuracy'\u001b[0m\u001b[0;34m]\u001b[0m\u001b[0;34m,\u001b[0m \u001b[0mcolor\u001b[0m\u001b[0;34m=\u001b[0m\u001b[0;34m'orange'\u001b[0m\u001b[0;34m,\u001b[0m \u001b[0mlabel\u001b[0m\u001b[0;34m=\u001b[0m\u001b[0;34m'train'\u001b[0m\u001b[0;34m)\u001b[0m\u001b[0;34m\u001b[0m\u001b[0;34m\u001b[0m\u001b[0m\n\u001b[0;32m----> 4\u001b[0;31m   \u001b[0mpyplot\u001b[0m\u001b[0;34m.\u001b[0m\u001b[0mplot\u001b[0m\u001b[0;34m(\u001b[0m\u001b[0mhistory\u001b[0m\u001b[0;34m.\u001b[0m\u001b[0mhistory\u001b[0m\u001b[0;34m[\u001b[0m\u001b[0;34m'val_accuracy'\u001b[0m\u001b[0;34m]\u001b[0m\u001b[0;34m,\u001b[0m \u001b[0mcolor\u001b[0m\u001b[0;34m=\u001b[0m\u001b[0;34m'green'\u001b[0m\u001b[0;34m,\u001b[0m \u001b[0mlabel\u001b[0m\u001b[0;34m=\u001b[0m\u001b[0;34m'test'\u001b[0m\u001b[0;34m)\u001b[0m\u001b[0;34m\u001b[0m\u001b[0;34m\u001b[0m\u001b[0m\n\u001b[0m\u001b[1;32m      5\u001b[0m   \u001b[0mpyplot\u001b[0m\u001b[0;34m.\u001b[0m\u001b[0msubplots_adjust\u001b[0m \u001b[0;34m(\u001b[0m\u001b[0mright\u001b[0m\u001b[0;34m=\u001b[0m\u001b[0;36m2\u001b[0m\u001b[0;34m)\u001b[0m\u001b[0;34m\u001b[0m\u001b[0;34m\u001b[0m\u001b[0m\n\u001b[1;32m      6\u001b[0m   \u001b[0mpyplot\u001b[0m\u001b[0;34m.\u001b[0m\u001b[0mshow\u001b[0m\u001b[0;34m(\u001b[0m\u001b[0;34m)\u001b[0m\u001b[0;34m\u001b[0m\u001b[0;34m\u001b[0m\u001b[0m\n",
            "\u001b[0;31mKeyError\u001b[0m: 'val_accuracy'"
          ]
        },
        {
          "output_type": "display_data",
          "data": {
            "text/plain": [
              "<Figure size 640x480 with 1 Axes>"
            ],
            "image/png": "[encoded data removed]"
          },
          "metadata": {}
        }
      ]
    },
    {
      "cell_type": "markdown",
      "source": [
        "Ewaluacja"
      ],
      "metadata": {
        "id": "3EAkmcBzakpq"
      }
    },
    {
      "cell_type": "code",
      "source": [
        "train_accuracy = model.evaluate(X_train, Y_train)\n",
        "test_accuracy = model.evaluate(X_test, Y_test)\n",
        "print('Dokładności klasyfikacji na materiale treningowym  = ',train_accuracy)\n",
        "print('dokładności klasyfikacji na materiale testowym  = ',test_accuracy)"
      ],
      "metadata": {
        "colab": {
          "base_uri": "https://localhost:8080/"
        },
        "id": "OCsz2dB2aluH",
        "outputId": "fcd7af51-a920-4bf9-9173-cd159b34ba9c"
      },
      "execution_count": 42,
      "outputs": [
        {
          "output_type": "stream",
          "name": "stdout",
          "text": [
            "1875/1875 [==============================] - 4s 2ms/step - loss: 0.0026 - accuracy: 0.9992\n",
            "313/313 [==============================] - 1s 3ms/step - loss: 0.0670 - accuracy: 0.9878\n",
            "Dokładności klasyfikacji na materiale treningowym  =  [0.0025566290132701397, 0.9992333054542542]\n",
            "dokładności klasyfikacji na materiale testowym  =  [0.06698428094387054, 0.9878000020980835]\n"
          ]
        }
      ]
    },
    {
      "cell_type": "markdown",
      "source": [
        "Wyniki nieznacznie się różnią, gdyż model radzi sobie lepiej na zbiorze treningowym (na którym się uczył) niż na testowym"
      ],
      "metadata": {
        "id": "eggYSPpkar9b"
      }
    },
    {
      "cell_type": "markdown",
      "source": [
        ":"
      ],
      "metadata": {
        "id": "sy1T-z3fZNl6"
      }
    }
  ]
}